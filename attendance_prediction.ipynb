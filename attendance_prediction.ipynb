{
  "cells": [
    {
      "cell_type": "markdown",
      "source": [
        "# import"
      ],
      "metadata": {
        "id": "LweRFIwITnw2"
      }
    },
    {
      "cell_type": "code",
      "execution_count": 1,
      "metadata": {
        "id": "dFVQjuM6_Hdm"
      },
      "outputs": [],
      "source": [
        "import pandas as pd\n",
        "from sklearn.model_selection import train_test_split\n",
        "from sklearn.preprocessing import LabelEncoder, StandardScaler\n",
        "from sklearn.linear_model import LinearRegression\n",
        "from sklearn.metrics import mean_absolute_error, mean_squared_error, r2_score\n",
        "import pandas as pd\n",
        "import seaborn as sns\n",
        "import matplotlib.pyplot as plt\n",
        "import pandas as pd\n",
        "import seaborn as sns\n",
        "import matplotlib.pyplot as plt\n",
        "from sklearn.ensemble import RandomForestRegressor\n",
        "import pandas as pd\n"
      ]
    },
    {
      "cell_type": "code",
      "execution_count": 2,
      "metadata": {
        "id": "IXmDr_8p_K7s",
        "colab": {
          "base_uri": "https://localhost:8080/",
          "height": 206
        },
        "outputId": "15838326-7cd0-4bc1-85b5-02965842d46c"
      },
      "outputs": [
        {
          "output_type": "execute_result",
          "data": {
            "text/plain": [
              "      team  team_name  year   total    home    away  week  weekly_attendance\n",
              "0  Arizona  Cardinals  2000  893926  387475  506451     1            77434.0\n",
              "1  Arizona  Cardinals  2000  893926  387475  506451     2            66009.0\n",
              "2  Arizona  Cardinals  2000  893926  387475  506451     3                NaN\n",
              "3  Arizona  Cardinals  2000  893926  387475  506451     4            71801.0\n",
              "4  Arizona  Cardinals  2000  893926  387475  506451     5            66985.0"
            ],
            "text/html": [
              "\n",
              "  <div id=\"df-39929c96-81ce-4c8f-b966-cf0887377a51\" class=\"colab-df-container\">\n",
              "    <div>\n",
              "<style scoped>\n",
              "    .dataframe tbody tr th:only-of-type {\n",
              "        vertical-align: middle;\n",
              "    }\n",
              "\n",
              "    .dataframe tbody tr th {\n",
              "        vertical-align: top;\n",
              "    }\n",
              "\n",
              "    .dataframe thead th {\n",
              "        text-align: right;\n",
              "    }\n",
              "</style>\n",
              "<table border=\"1\" class=\"dataframe\">\n",
              "  <thead>\n",
              "    <tr style=\"text-align: right;\">\n",
              "      <th></th>\n",
              "      <th>team</th>\n",
              "      <th>team_name</th>\n",
              "      <th>year</th>\n",
              "      <th>total</th>\n",
              "      <th>home</th>\n",
              "      <th>away</th>\n",
              "      <th>week</th>\n",
              "      <th>weekly_attendance</th>\n",
              "    </tr>\n",
              "  </thead>\n",
              "  <tbody>\n",
              "    <tr>\n",
              "      <th>0</th>\n",
              "      <td>Arizona</td>\n",
              "      <td>Cardinals</td>\n",
              "      <td>2000</td>\n",
              "      <td>893926</td>\n",
              "      <td>387475</td>\n",
              "      <td>506451</td>\n",
              "      <td>1</td>\n",
              "      <td>77434.0</td>\n",
              "    </tr>\n",
              "    <tr>\n",
              "      <th>1</th>\n",
              "      <td>Arizona</td>\n",
              "      <td>Cardinals</td>\n",
              "      <td>2000</td>\n",
              "      <td>893926</td>\n",
              "      <td>387475</td>\n",
              "      <td>506451</td>\n",
              "      <td>2</td>\n",
              "      <td>66009.0</td>\n",
              "    </tr>\n",
              "    <tr>\n",
              "      <th>2</th>\n",
              "      <td>Arizona</td>\n",
              "      <td>Cardinals</td>\n",
              "      <td>2000</td>\n",
              "      <td>893926</td>\n",
              "      <td>387475</td>\n",
              "      <td>506451</td>\n",
              "      <td>3</td>\n",
              "      <td>NaN</td>\n",
              "    </tr>\n",
              "    <tr>\n",
              "      <th>3</th>\n",
              "      <td>Arizona</td>\n",
              "      <td>Cardinals</td>\n",
              "      <td>2000</td>\n",
              "      <td>893926</td>\n",
              "      <td>387475</td>\n",
              "      <td>506451</td>\n",
              "      <td>4</td>\n",
              "      <td>71801.0</td>\n",
              "    </tr>\n",
              "    <tr>\n",
              "      <th>4</th>\n",
              "      <td>Arizona</td>\n",
              "      <td>Cardinals</td>\n",
              "      <td>2000</td>\n",
              "      <td>893926</td>\n",
              "      <td>387475</td>\n",
              "      <td>506451</td>\n",
              "      <td>5</td>\n",
              "      <td>66985.0</td>\n",
              "    </tr>\n",
              "  </tbody>\n",
              "</table>\n",
              "</div>\n",
              "    <div class=\"colab-df-buttons\">\n",
              "      \n",
              "  <div class=\"colab-df-container\">\n",
              "    <button class=\"colab-df-convert\" onclick=\"convertToInteractive('df-39929c96-81ce-4c8f-b966-cf0887377a51')\"\n",
              "            title=\"Convert this dataframe to an interactive table.\"\n",
              "            style=\"display:none;\">\n",
              "      \n",
              "  <svg xmlns=\"http://www.w3.org/2000/svg\" height=\"24px\" viewBox=\"0 -960 960 960\">\n",
              "    <path d=\"M120-120v-720h720v720H120Zm60-500h600v-160H180v160Zm220 220h160v-160H400v160Zm0 220h160v-160H400v160ZM180-400h160v-160H180v160Zm440 0h160v-160H620v160ZM180-180h160v-160H180v160Zm440 0h160v-160H620v160Z\"/>\n",
              "  </svg>\n",
              "    </button>\n",
              "    \n",
              "  <style>\n",
              "    .colab-df-container {\n",
              "      display:flex;\n",
              "      gap: 12px;\n",
              "    }\n",
              "\n",
              "    .colab-df-convert {\n",
              "      background-color: #E8F0FE;\n",
              "      border: none;\n",
              "      border-radius: 50%;\n",
              "      cursor: pointer;\n",
              "      display: none;\n",
              "      fill: #1967D2;\n",
              "      height: 32px;\n",
              "      padding: 0 0 0 0;\n",
              "      width: 32px;\n",
              "    }\n",
              "\n",
              "    .colab-df-convert:hover {\n",
              "      background-color: #E2EBFA;\n",
              "      box-shadow: 0px 1px 2px rgba(60, 64, 67, 0.3), 0px 1px 3px 1px rgba(60, 64, 67, 0.15);\n",
              "      fill: #174EA6;\n",
              "    }\n",
              "\n",
              "    .colab-df-buttons div {\n",
              "      margin-bottom: 4px;\n",
              "    }\n",
              "\n",
              "    [theme=dark] .colab-df-convert {\n",
              "      background-color: #3B4455;\n",
              "      fill: #D2E3FC;\n",
              "    }\n",
              "\n",
              "    [theme=dark] .colab-df-convert:hover {\n",
              "      background-color: #434B5C;\n",
              "      box-shadow: 0px 1px 3px 1px rgba(0, 0, 0, 0.15);\n",
              "      filter: drop-shadow(0px 1px 2px rgba(0, 0, 0, 0.3));\n",
              "      fill: #FFFFFF;\n",
              "    }\n",
              "  </style>\n",
              "\n",
              "    <script>\n",
              "      const buttonEl =\n",
              "        document.querySelector('#df-39929c96-81ce-4c8f-b966-cf0887377a51 button.colab-df-convert');\n",
              "      buttonEl.style.display =\n",
              "        google.colab.kernel.accessAllowed ? 'block' : 'none';\n",
              "\n",
              "      async function convertToInteractive(key) {\n",
              "        const element = document.querySelector('#df-39929c96-81ce-4c8f-b966-cf0887377a51');\n",
              "        const dataTable =\n",
              "          await google.colab.kernel.invokeFunction('convertToInteractive',\n",
              "                                                    [key], {});\n",
              "        if (!dataTable) return;\n",
              "\n",
              "        const docLinkHtml = 'Like what you see? Visit the ' +\n",
              "          '<a target=\"_blank\" href=https://colab.research.google.com/notebooks/data_table.ipynb>data table notebook</a>'\n",
              "          + ' to learn more about interactive tables.';\n",
              "        element.innerHTML = '';\n",
              "        dataTable['output_type'] = 'display_data';\n",
              "        await google.colab.output.renderOutput(dataTable, element);\n",
              "        const docLink = document.createElement('div');\n",
              "        docLink.innerHTML = docLinkHtml;\n",
              "        element.appendChild(docLink);\n",
              "      }\n",
              "    </script>\n",
              "  </div>\n",
              "  \n",
              "    </div>\n",
              "  </div>\n",
              "  "
            ]
          },
          "metadata": {},
          "execution_count": 2
        }
      ],
      "source": [
        "# Load the dataset\n",
        "df = pd.read_csv(\"attendance.csv\")\n",
        "\n",
        "# Display the first few rows of the dataset to understand its structure\n",
        "df.head()"
      ]
    },
    {
      "cell_type": "markdown",
      "source": [
        "# EDA"
      ],
      "metadata": {
        "id": "rayN2AkYTvX9"
      }
    },
    {
      "cell_type": "code",
      "source": [
        "#Dimention/Size of dataset\n",
        "df.shape"
      ],
      "metadata": {
        "colab": {
          "base_uri": "https://localhost:8080/"
        },
        "id": "offFcmC6Tc5i",
        "outputId": "6017d622-083c-483d-b0a9-4dbb27048d8f"
      },
      "execution_count": 3,
      "outputs": [
        {
          "output_type": "execute_result",
          "data": {
            "text/plain": [
              "(10846, 8)"
            ]
          },
          "metadata": {},
          "execution_count": 3
        }
      ]
    },
    {
      "cell_type": "code",
      "source": [
        "# Summary statistics of the dataset\n",
        "summary_statistics = df.describe(include='all')\n",
        "summary_statistics"
      ],
      "metadata": {
        "colab": {
          "base_uri": "https://localhost:8080/",
          "height": 432
        },
        "id": "3JXxO5ByTg-y",
        "outputId": "52531373-0c73-45bc-d7dc-9a069a50c197"
      },
      "execution_count": 4,
      "outputs": [
        {
          "output_type": "execute_result",
          "data": {
            "text/plain": [
              "            team  team_name          year         total           home  \\\n",
              "count      10846      10846  10846.000000  1.084600e+04   10846.000000   \n",
              "unique        32         32           NaN           NaN            NaN   \n",
              "top     New York  Cardinals           NaN           NaN            NaN   \n",
              "freq         680        340           NaN           NaN            NaN   \n",
              "mean         NaN        NaN   2009.528213  1.080910e+06  540455.012539   \n",
              "std          NaN        NaN      5.753415  7.287697e+04   66774.652550   \n",
              "min          NaN        NaN   2000.000000  7.606440e+05  202687.000000   \n",
              "25%          NaN        NaN   2005.000000  1.040509e+06  504360.000000   \n",
              "50%          NaN        NaN   2010.000000  1.081090e+06  543185.000000   \n",
              "75%          NaN        NaN   2015.000000  1.123230e+06  578342.000000   \n",
              "max          NaN        NaN   2019.000000  1.322087e+06  741775.000000   \n",
              "\n",
              "                 away          week  weekly_attendance  \n",
              "count    10846.000000  10846.000000       10208.000000  \n",
              "unique            NaN           NaN                NaN  \n",
              "top               NaN           NaN                NaN  \n",
              "freq              NaN           NaN                NaN  \n",
              "mean    540455.012539      9.000000       67556.876567  \n",
              "std      25509.325673      4.899205        9022.015325  \n",
              "min     450295.000000      1.000000       23127.000000  \n",
              "25%     524974.000000      5.000000       63245.500000  \n",
              "50%     541757.000000      9.000000       68334.000000  \n",
              "75%     557741.000000     13.000000       72544.750000  \n",
              "max     601655.000000     17.000000      105121.000000  "
            ],
            "text/html": [
              "\n",
              "  <div id=\"df-3d889ea7-8dbf-434b-a266-db379240cd08\" class=\"colab-df-container\">\n",
              "    <div>\n",
              "<style scoped>\n",
              "    .dataframe tbody tr th:only-of-type {\n",
              "        vertical-align: middle;\n",
              "    }\n",
              "\n",
              "    .dataframe tbody tr th {\n",
              "        vertical-align: top;\n",
              "    }\n",
              "\n",
              "    .dataframe thead th {\n",
              "        text-align: right;\n",
              "    }\n",
              "</style>\n",
              "<table border=\"1\" class=\"dataframe\">\n",
              "  <thead>\n",
              "    <tr style=\"text-align: right;\">\n",
              "      <th></th>\n",
              "      <th>team</th>\n",
              "      <th>team_name</th>\n",
              "      <th>year</th>\n",
              "      <th>total</th>\n",
              "      <th>home</th>\n",
              "      <th>away</th>\n",
              "      <th>week</th>\n",
              "      <th>weekly_attendance</th>\n",
              "    </tr>\n",
              "  </thead>\n",
              "  <tbody>\n",
              "    <tr>\n",
              "      <th>count</th>\n",
              "      <td>10846</td>\n",
              "      <td>10846</td>\n",
              "      <td>10846.000000</td>\n",
              "      <td>1.084600e+04</td>\n",
              "      <td>10846.000000</td>\n",
              "      <td>10846.000000</td>\n",
              "      <td>10846.000000</td>\n",
              "      <td>10208.000000</td>\n",
              "    </tr>\n",
              "    <tr>\n",
              "      <th>unique</th>\n",
              "      <td>32</td>\n",
              "      <td>32</td>\n",
              "      <td>NaN</td>\n",
              "      <td>NaN</td>\n",
              "      <td>NaN</td>\n",
              "      <td>NaN</td>\n",
              "      <td>NaN</td>\n",
              "      <td>NaN</td>\n",
              "    </tr>\n",
              "    <tr>\n",
              "      <th>top</th>\n",
              "      <td>New York</td>\n",
              "      <td>Cardinals</td>\n",
              "      <td>NaN</td>\n",
              "      <td>NaN</td>\n",
              "      <td>NaN</td>\n",
              "      <td>NaN</td>\n",
              "      <td>NaN</td>\n",
              "      <td>NaN</td>\n",
              "    </tr>\n",
              "    <tr>\n",
              "      <th>freq</th>\n",
              "      <td>680</td>\n",
              "      <td>340</td>\n",
              "      <td>NaN</td>\n",
              "      <td>NaN</td>\n",
              "      <td>NaN</td>\n",
              "      <td>NaN</td>\n",
              "      <td>NaN</td>\n",
              "      <td>NaN</td>\n",
              "    </tr>\n",
              "    <tr>\n",
              "      <th>mean</th>\n",
              "      <td>NaN</td>\n",
              "      <td>NaN</td>\n",
              "      <td>2009.528213</td>\n",
              "      <td>1.080910e+06</td>\n",
              "      <td>540455.012539</td>\n",
              "      <td>540455.012539</td>\n",
              "      <td>9.000000</td>\n",
              "      <td>67556.876567</td>\n",
              "    </tr>\n",
              "    <tr>\n",
              "      <th>std</th>\n",
              "      <td>NaN</td>\n",
              "      <td>NaN</td>\n",
              "      <td>5.753415</td>\n",
              "      <td>7.287697e+04</td>\n",
              "      <td>66774.652550</td>\n",
              "      <td>25509.325673</td>\n",
              "      <td>4.899205</td>\n",
              "      <td>9022.015325</td>\n",
              "    </tr>\n",
              "    <tr>\n",
              "      <th>min</th>\n",
              "      <td>NaN</td>\n",
              "      <td>NaN</td>\n",
              "      <td>2000.000000</td>\n",
              "      <td>7.606440e+05</td>\n",
              "      <td>202687.000000</td>\n",
              "      <td>450295.000000</td>\n",
              "      <td>1.000000</td>\n",
              "      <td>23127.000000</td>\n",
              "    </tr>\n",
              "    <tr>\n",
              "      <th>25%</th>\n",
              "      <td>NaN</td>\n",
              "      <td>NaN</td>\n",
              "      <td>2005.000000</td>\n",
              "      <td>1.040509e+06</td>\n",
              "      <td>504360.000000</td>\n",
              "      <td>524974.000000</td>\n",
              "      <td>5.000000</td>\n",
              "      <td>63245.500000</td>\n",
              "    </tr>\n",
              "    <tr>\n",
              "      <th>50%</th>\n",
              "      <td>NaN</td>\n",
              "      <td>NaN</td>\n",
              "      <td>2010.000000</td>\n",
              "      <td>1.081090e+06</td>\n",
              "      <td>543185.000000</td>\n",
              "      <td>541757.000000</td>\n",
              "      <td>9.000000</td>\n",
              "      <td>68334.000000</td>\n",
              "    </tr>\n",
              "    <tr>\n",
              "      <th>75%</th>\n",
              "      <td>NaN</td>\n",
              "      <td>NaN</td>\n",
              "      <td>2015.000000</td>\n",
              "      <td>1.123230e+06</td>\n",
              "      <td>578342.000000</td>\n",
              "      <td>557741.000000</td>\n",
              "      <td>13.000000</td>\n",
              "      <td>72544.750000</td>\n",
              "    </tr>\n",
              "    <tr>\n",
              "      <th>max</th>\n",
              "      <td>NaN</td>\n",
              "      <td>NaN</td>\n",
              "      <td>2019.000000</td>\n",
              "      <td>1.322087e+06</td>\n",
              "      <td>741775.000000</td>\n",
              "      <td>601655.000000</td>\n",
              "      <td>17.000000</td>\n",
              "      <td>105121.000000</td>\n",
              "    </tr>\n",
              "  </tbody>\n",
              "</table>\n",
              "</div>\n",
              "    <div class=\"colab-df-buttons\">\n",
              "      \n",
              "  <div class=\"colab-df-container\">\n",
              "    <button class=\"colab-df-convert\" onclick=\"convertToInteractive('df-3d889ea7-8dbf-434b-a266-db379240cd08')\"\n",
              "            title=\"Convert this dataframe to an interactive table.\"\n",
              "            style=\"display:none;\">\n",
              "      \n",
              "  <svg xmlns=\"http://www.w3.org/2000/svg\" height=\"24px\" viewBox=\"0 -960 960 960\">\n",
              "    <path d=\"M120-120v-720h720v720H120Zm60-500h600v-160H180v160Zm220 220h160v-160H400v160Zm0 220h160v-160H400v160ZM180-400h160v-160H180v160Zm440 0h160v-160H620v160ZM180-180h160v-160H180v160Zm440 0h160v-160H620v160Z\"/>\n",
              "  </svg>\n",
              "    </button>\n",
              "    \n",
              "  <style>\n",
              "    .colab-df-container {\n",
              "      display:flex;\n",
              "      gap: 12px;\n",
              "    }\n",
              "\n",
              "    .colab-df-convert {\n",
              "      background-color: #E8F0FE;\n",
              "      border: none;\n",
              "      border-radius: 50%;\n",
              "      cursor: pointer;\n",
              "      display: none;\n",
              "      fill: #1967D2;\n",
              "      height: 32px;\n",
              "      padding: 0 0 0 0;\n",
              "      width: 32px;\n",
              "    }\n",
              "\n",
              "    .colab-df-convert:hover {\n",
              "      background-color: #E2EBFA;\n",
              "      box-shadow: 0px 1px 2px rgba(60, 64, 67, 0.3), 0px 1px 3px 1px rgba(60, 64, 67, 0.15);\n",
              "      fill: #174EA6;\n",
              "    }\n",
              "\n",
              "    .colab-df-buttons div {\n",
              "      margin-bottom: 4px;\n",
              "    }\n",
              "\n",
              "    [theme=dark] .colab-df-convert {\n",
              "      background-color: #3B4455;\n",
              "      fill: #D2E3FC;\n",
              "    }\n",
              "\n",
              "    [theme=dark] .colab-df-convert:hover {\n",
              "      background-color: #434B5C;\n",
              "      box-shadow: 0px 1px 3px 1px rgba(0, 0, 0, 0.15);\n",
              "      filter: drop-shadow(0px 1px 2px rgba(0, 0, 0, 0.3));\n",
              "      fill: #FFFFFF;\n",
              "    }\n",
              "  </style>\n",
              "\n",
              "    <script>\n",
              "      const buttonEl =\n",
              "        document.querySelector('#df-3d889ea7-8dbf-434b-a266-db379240cd08 button.colab-df-convert');\n",
              "      buttonEl.style.display =\n",
              "        google.colab.kernel.accessAllowed ? 'block' : 'none';\n",
              "\n",
              "      async function convertToInteractive(key) {\n",
              "        const element = document.querySelector('#df-3d889ea7-8dbf-434b-a266-db379240cd08');\n",
              "        const dataTable =\n",
              "          await google.colab.kernel.invokeFunction('convertToInteractive',\n",
              "                                                    [key], {});\n",
              "        if (!dataTable) return;\n",
              "\n",
              "        const docLinkHtml = 'Like what you see? Visit the ' +\n",
              "          '<a target=\"_blank\" href=https://colab.research.google.com/notebooks/data_table.ipynb>data table notebook</a>'\n",
              "          + ' to learn more about interactive tables.';\n",
              "        element.innerHTML = '';\n",
              "        dataTable['output_type'] = 'display_data';\n",
              "        await google.colab.output.renderOutput(dataTable, element);\n",
              "        const docLink = document.createElement('div');\n",
              "        docLink.innerHTML = docLinkHtml;\n",
              "        element.appendChild(docLink);\n",
              "      }\n",
              "    </script>\n",
              "  </div>\n",
              "  \n",
              "    </div>\n",
              "  </div>\n",
              "  "
            ]
          },
          "metadata": {},
          "execution_count": 4
        }
      ]
    },
    {
      "cell_type": "code",
      "source": [
        "df.info()"
      ],
      "metadata": {
        "colab": {
          "base_uri": "https://localhost:8080/"
        },
        "id": "FxA4pWucTlTM",
        "outputId": "fe38b063-bdc0-469d-fb62-ce28c7957ff2"
      },
      "execution_count": 5,
      "outputs": [
        {
          "output_type": "stream",
          "name": "stdout",
          "text": [
            "<class 'pandas.core.frame.DataFrame'>\n",
            "RangeIndex: 10846 entries, 0 to 10845\n",
            "Data columns (total 8 columns):\n",
            " #   Column             Non-Null Count  Dtype  \n",
            "---  ------             --------------  -----  \n",
            " 0   team               10846 non-null  object \n",
            " 1   team_name          10846 non-null  object \n",
            " 2   year               10846 non-null  int64  \n",
            " 3   total              10846 non-null  int64  \n",
            " 4   home               10846 non-null  int64  \n",
            " 5   away               10846 non-null  int64  \n",
            " 6   week               10846 non-null  int64  \n",
            " 7   weekly_attendance  10208 non-null  float64\n",
            "dtypes: float64(1), int64(5), object(2)\n",
            "memory usage: 678.0+ KB\n"
          ]
        }
      ]
    },
    {
      "cell_type": "code",
      "source": [
        "# Check for missing values\n",
        "missing_values = df.isnull().sum()\n",
        "\n",
        "missing_values"
      ],
      "metadata": {
        "colab": {
          "base_uri": "https://localhost:8080/",
          "height": 335
        },
        "id": "a72-tAkzT2J0",
        "outputId": "46b43691-fb49-4056-f772-efc4f7f8d1cd"
      },
      "execution_count": 6,
      "outputs": [
        {
          "output_type": "execute_result",
          "data": {
            "text/plain": [
              "team                   0\n",
              "team_name              0\n",
              "year                   0\n",
              "total                  0\n",
              "home                   0\n",
              "away                   0\n",
              "week                   0\n",
              "weekly_attendance    638\n",
              "dtype: int64"
            ],
            "text/html": [
              "<div>\n",
              "<style scoped>\n",
              "    .dataframe tbody tr th:only-of-type {\n",
              "        vertical-align: middle;\n",
              "    }\n",
              "\n",
              "    .dataframe tbody tr th {\n",
              "        vertical-align: top;\n",
              "    }\n",
              "\n",
              "    .dataframe thead th {\n",
              "        text-align: right;\n",
              "    }\n",
              "</style>\n",
              "<table border=\"1\" class=\"dataframe\">\n",
              "  <thead>\n",
              "    <tr style=\"text-align: right;\">\n",
              "      <th></th>\n",
              "      <th>0</th>\n",
              "    </tr>\n",
              "  </thead>\n",
              "  <tbody>\n",
              "    <tr>\n",
              "      <th>team</th>\n",
              "      <td>0</td>\n",
              "    </tr>\n",
              "    <tr>\n",
              "      <th>team_name</th>\n",
              "      <td>0</td>\n",
              "    </tr>\n",
              "    <tr>\n",
              "      <th>year</th>\n",
              "      <td>0</td>\n",
              "    </tr>\n",
              "    <tr>\n",
              "      <th>total</th>\n",
              "      <td>0</td>\n",
              "    </tr>\n",
              "    <tr>\n",
              "      <th>home</th>\n",
              "      <td>0</td>\n",
              "    </tr>\n",
              "    <tr>\n",
              "      <th>away</th>\n",
              "      <td>0</td>\n",
              "    </tr>\n",
              "    <tr>\n",
              "      <th>week</th>\n",
              "      <td>0</td>\n",
              "    </tr>\n",
              "    <tr>\n",
              "      <th>weekly_attendance</th>\n",
              "      <td>638</td>\n",
              "    </tr>\n",
              "  </tbody>\n",
              "</table>\n",
              "</div><br><label><b>dtype:</b> int64</label>"
            ]
          },
          "metadata": {},
          "execution_count": 6
        }
      ]
    },
    {
      "cell_type": "code",
      "execution_count": 7,
      "metadata": {
        "colab": {
          "base_uri": "https://localhost:8080/"
        },
        "id": "YwuBNLNg_ZGy",
        "outputId": "8d0796b0-1970-4fc0-a2d6-565afbb0fdc0"
      },
      "outputs": [
        {
          "output_type": "stream",
          "name": "stderr",
          "text": [
            "<ipython-input-7-05b4ab4b89ae>:2: FutureWarning: A value is trying to be set on a copy of a DataFrame or Series through chained assignment using an inplace method.\n",
            "The behavior will change in pandas 3.0. This inplace method will never work because the intermediate object on which we are setting values always behaves as a copy.\n",
            "\n",
            "For example, when doing 'df[col].method(value, inplace=True)', try using 'df.method({col: value}, inplace=True)' or df[col] = df[col].method(value) instead, to perform the operation inplace on the original object.\n",
            "\n",
            "\n",
            "  df['weekly_attendance'].fillna(df['weekly_attendance'].median(), inplace=True)\n"
          ]
        }
      ],
      "source": [
        "# Handle missing values in 'weekly_attendance' by filling with median\n",
        "df['weekly_attendance'].fillna(df['weekly_attendance'].median(), inplace=True)"
      ]
    },
    {
      "cell_type": "code",
      "source": [
        "# Select all numeric features in the dataset\n",
        "numerical_features = df.select_dtypes(include=['int64', 'float64']).columns\n",
        "\n",
        "# Define the number of rows and columns for the grid\n",
        "n = len(numerical_features)\n",
        "cols = 3  # Number of columns in the grid\n",
        "rows = (n // cols) + (n % cols > 0)  # Calculate rows needed\n",
        "\n",
        "# Create a grid of subplots\n",
        "fig, axes = plt.subplots(rows, cols, figsize=(18, 6 * rows))\n",
        "axes = axes.flatten()  # Flatten the axes array for easy indexing\n",
        "\n",
        "# Loop through each numerical feature and create a histogram\n",
        "for i, feature in enumerate(numerical_features):\n",
        "    sns.histplot(df[feature], kde=False, bins=10, color='blue', ax=axes[i],\n",
        "                 element='bars', binwidth=1)  # Adjust binwidth as needed\n",
        "    axes[i].set_title(f'Distribution of {feature}', fontsize=10)\n",
        "    axes[i].set_xlabel(feature, fontsize=8)\n",
        "    axes[i].set_ylabel('Frequency', fontsize=9)\n",
        "\n",
        "    # Set x-ticks for Likert-scale features (if applicable)\n",
        "    if df[feature].nunique() <= 5:  # Adjust for discrete features\n",
        "        axes[i].set_xticks([1, 2, 3, 4, 5])\n",
        "\n",
        "# Hide any unused subplots (if number of features is not a multiple of grid columns)\n",
        "for j in range(len(numerical_features), len(axes)):\n",
        "    fig.delaxes(axes[j])\n",
        "\n",
        "# Adjust layout for better spacing to prevent overlap\n",
        "plt.tight_layout()\n",
        "\n",
        "plt.show()\n"
      ],
      "metadata": {
        "id": "VliAPsh_UsxE"
      },
      "execution_count": null,
      "outputs": []
    },
    {
      "cell_type": "markdown",
      "source": [
        "# preprocessing"
      ],
      "metadata": {
        "id": "bvs0vA0DUePi"
      }
    },
    {
      "cell_type": "code",
      "execution_count": 33,
      "metadata": {
        "colab": {
          "base_uri": "https://localhost:8080/",
          "height": 606
        },
        "id": "4AHK43dxPOzY",
        "outputId": "89415091-6138-4b6d-c920-056e71635703"
      },
      "outputs": [
        {
          "output_type": "display_data",
          "data": {
            "text/plain": [
              "<Figure size 1200x800 with 2 Axes>"
            ],
            "image/png": "[encoded data removed]"
          },
          "metadata": {}
        }
      ],
      "source": [
        "plt.figure(figsize=(12, 8))\n",
        "\n",
        "numeric_df = df.select_dtypes(include='number')\n",
        "\n",
        "sns.heatmap(numeric_df.corr(), annot=True, cmap='coolwarm')\n",
        "plt.title(\"Correlation Heatmap\")\n",
        "plt.show()\n"
      ]
    },
    {
      "cell_type": "code",
      "source": [
        "df_encoded = df.copy()\n",
        "categorical_cols = df_encoded.select_dtypes(include='object').columns\n"
      ],
      "metadata": {
        "id": "tCwwIGAHUSC8"
      },
      "execution_count": 34,
      "outputs": []
    },
    {
      "cell_type": "code",
      "source": [
        "le = LabelEncoder()\n",
        "for col in categorical_cols:\n",
        "    df_encoded[col] = le.fit_transform(df_encoded[col])\n"
      ],
      "metadata": {
        "id": "dhDL04CNUcZn"
      },
      "execution_count": 35,
      "outputs": []
    },
    {
      "cell_type": "code",
      "source": [
        "columns_to_drop = ['week', 'year', 'team_encoded', 'team_name_encoded']\n",
        "existing_columns = [col for col in columns_to_drop if col in df_encoded.columns]\n",
        "df_reduced = df_encoded.drop(existing_columns, axis=1)\n"
      ],
      "metadata": {
        "id": "lwbNNRzYZSA5"
      },
      "execution_count": null,
      "outputs": []
    },
    {
      "cell_type": "code",
      "source": [
        "X = df_reduced.drop('total', axis=1)\n",
        "y = df_reduced['total']\n"
      ],
      "metadata": {
        "id": "7iXffI38ZU5n"
      },
      "execution_count": null,
      "outputs": []
    },
    {
      "cell_type": "code",
      "source": [
        "X_train, X_test, y_train, y_test = train_test_split(X, y, test_size=0.2, random_state=42)\n"
      ],
      "metadata": {
        "id": "lZeK16LRZYFJ"
      },
      "execution_count": null,
      "outputs": []
    },
    {
      "cell_type": "code",
      "source": [
        "\n",
        "# Scaling\n",
        "scaler = StandardScaler()\n",
        "X_train_scaled = scaler.fit_transform(X_train)\n",
        "X_test_scaled = scaler.transform(X_test)"
      ],
      "metadata": {
        "id": "76HvOoXkZaP2"
      },
      "execution_count": null,
      "outputs": []
    },
    {
      "cell_type": "markdown",
      "source": [
        "# Implimention"
      ],
      "metadata": {
        "id": "qaBdhY44Yabw"
      }
    },
    {
      "cell_type": "code",
      "execution_count": null,
      "metadata": {
        "id": "c36d49d4"
      },
      "outputs": [],
      "source": [
        "\n",
        "rf = RandomForestRegressor(n_estimators=100, random_state=42)\n",
        "rf.fit(X_train_scaled, y_train)\n",
        "y_pred_rf = rf.predict(X_test_scaled)\n"
      ]
    },
    {
      "cell_type": "code",
      "execution_count": 25,
      "metadata": {
        "colab": {
          "base_uri": "https://localhost:8080/"
        },
        "id": "d9618d72",
        "outputId": "ef65f81f-2b7f-49c1-e03f-b1b85b15a32e"
      },
      "outputs": [
        {
          "output_type": "stream",
          "name": "stdout",
          "text": [
            "🔍 Performance of Random Forest Regressor:\n",
            "Mean Absolute Error: 3.2022027649772395\n",
            "Root Mean Squared Error: 27.194217732167363\n",
            "R-squared: 0.9999998482552004\n"
          ]
        }
      ],
      "source": [
        "\n",
        "mae = mean_absolute_error(y_test, y_pred_rf)\n",
        "rmse = mean_squared_error(y_test, y_pred_rf) ** 0.5\n",
        "r2 = r2_score(y_test, y_pred_rf)\n",
        "\n",
        "print(\"🔍 Performance of Random Forest Regressor:\")\n",
        "print(f\"Mean Absolute Error: {mae}\")\n",
        "print(f\"Root Mean Squared Error: {rmse}\")\n",
        "print(f\"R-squared: {r2}\")\n"
      ]
    },
    {
      "cell_type": "markdown",
      "source": [],
      "metadata": {
        "id": "1cYyew1XcFOt"
      }
    },
    {
      "cell_type": "code",
      "source": [
        "from sklearn.ensemble import RandomForestRegressor\n",
        "from sklearn.neighbors import KNeighborsRegressor\n",
        "from sklearn.linear_model import LinearRegression\n",
        "from sklearn.metrics import mean_absolute_error, mean_squared_error, r2_score\n",
        "\n",
        "# Random Forest\n",
        "rf = RandomForestRegressor(n_estimators=100, random_state=42)\n",
        "rf.fit(X_train_scaled, y_train)\n",
        "y_pred_rf = rf.predict(X_test_scaled)\n",
        "\n",
        "# K-Nearest Neighbors\n",
        "knn = KNeighborsRegressor()\n",
        "knn.fit(X_train_scaled, y_train)\n",
        "y_pred_knn = knn.predict(X_test_scaled)\n",
        "\n",
        "#  Linear Regression\n",
        "lr = LinearRegression()\n",
        "lr.fit(X_train_scaled, y_train)\n",
        "y_pred_lr = lr.predict(X_test_scaled)\n",
        "\n",
        "\n",
        "mae_rf = mean_absolute_error(y_test, y_pred_rf)\n",
        "rmse_rf = mean_squared_error(y_test, y_pred_rf, squared=False)\n",
        "r2_rf = r2_score(y_test, y_pred_rf)\n",
        "\n",
        "mae_knn = mean_absolute_error(y_test, y_pred_knn)\n",
        "rmse_knn = mean_squared_error(y_test, y_pred_knn, squared=False)\n",
        "r2_knn = r2_score(y_test, y_pred_knn)\n",
        "\n",
        "mae_lr = mean_absolute_error(y_test, y_pred_lr)\n",
        "rmse_lr = mean_squared_error(y_test, y_pred_lr, squared=False)\n",
        "r2_lr = r2_score(y_test, y_pred_lr)\n",
        "\n",
        "print(\"🔍 Performance Comparison:\")\n",
        "print(f\"Random Forest: MAE={mae_rf}, RMSE={rmse_rf}, R2={r2_rf}\")\n",
        "print(f\"KNN: MAE={mae_knn}, RMSE={rmse_knn}, R2={r2_knn}\")\n",
        "print(f\"Linear Regression: MAE={mae_lr}, RMSE={rmse_lr}, R2={r2_lr}\")"
      ],
      "metadata": {
        "id": "FIQd37_qbVL4"
      },
      "execution_count": null,
      "outputs": []
    },
    {
      "cell_type": "code",
      "execution_count": 1,
      "metadata": {
        "colab": {
          "base_uri": "https://localhost:8080/",
          "height": 211
        },
        "id": "1-KgjY5YAyaY",
        "outputId": "1c7bcdfd-1bf6-4c5d-af29-2f0927f279c8"
      },
      "outputs": [
        {
          "output_type": "error",
          "ename": "NameError",
          "evalue": "name 'pd' is not defined",
          "traceback": [
            "\u001b[0;31m---------------------------------------------------------------------------\u001b[0m",
            "\u001b[0;31mNameError\u001b[0m                                 Traceback (most recent call last)",
            "\u001b[0;32m<ipython-input-1-220a32afa2f1>\u001b[0m in \u001b[0;36m<cell line: 0>\u001b[0;34m()\u001b[0m\n\u001b[0;32m----> 1\u001b[0;31m new_data = pd.DataFrame({\n\u001b[0m\u001b[1;32m      2\u001b[0m     \u001b[0;34m'team_name_encoded'\u001b[0m\u001b[0;34m:\u001b[0m \u001b[0;34m[\u001b[0m\u001b[0;36m0\u001b[0m\u001b[0;34m]\u001b[0m\u001b[0;34m,\u001b[0m  \u001b[0;31m# استبدلها برمز فريق صالح\u001b[0m\u001b[0;34m\u001b[0m\u001b[0;34m\u001b[0m\u001b[0m\n\u001b[1;32m      3\u001b[0m     \u001b[0;34m'total'\u001b[0m\u001b[0;34m:\u001b[0m \u001b[0;34m[\u001b[0m\u001b[0;36m500000\u001b[0m\u001b[0;34m]\u001b[0m\u001b[0;34m,\u001b[0m         \u001b[0;31m# إجمالي الحضور (مثال)\u001b[0m\u001b[0;34m\u001b[0m\u001b[0;34m\u001b[0m\u001b[0m\n\u001b[1;32m      4\u001b[0m     \u001b[0;34m'home'\u001b[0m\u001b[0;34m:\u001b[0m \u001b[0;34m[\u001b[0m\u001b[0;36m250000\u001b[0m\u001b[0;34m]\u001b[0m\u001b[0;34m,\u001b[0m          \u001b[0;31m# الحضور المنزلي (مثال)\u001b[0m\u001b[0;34m\u001b[0m\u001b[0;34m\u001b[0m\u001b[0m\n\u001b[1;32m      5\u001b[0m     \u001b[0;34m'away'\u001b[0m\u001b[0;34m:\u001b[0m \u001b[0;34m[\u001b[0m\u001b[0;36m250000\u001b[0m\u001b[0;34m]\u001b[0m\u001b[0;34m,\u001b[0m          \u001b[0;31m# الحضور الخارجي (مثال)\u001b[0m\u001b[0;34m\u001b[0m\u001b[0;34m\u001b[0m\u001b[0m\n",
            "\u001b[0;31mNameError\u001b[0m: name 'pd' is not defined"
          ]
        }
      ],
      "source": [
        "\n",
        "new_data = pd.DataFrame({\n",
        "    'team_name_encoded': [0],  # استبدلها برمز فريق صالح\n",
        "    'total': [500000],         # إجمالي الحضور (مثال)\n",
        "    'home': [250000],          # الحضور المنزلي (مثال)\n",
        "    'away': [250000],          # الحضور الخارجي (مثال)\n",
        "    'week': [10]               # رقم الأسبوع (مثال)\n",
        "})\n",
        "\n",
        "# تحويل البيانات باستخدام المقياس الذي استخدمته لتوحيد البيانات\n",
        "new_data_scaled = scaler.transform(new_data)  # تأكد من تعريف scaler مسبقاً\n",
        "\n",
        "# التنبؤ باستخدام النموذج\n",
        "predicted_attendance = rf.predict(new_data_scaled)\n",
        "print(f\"Predicted Weekly Attendance: {predicted_attendance[0]}\")"
      ]
    }
  ],
  "metadata": {
    "colab": {
      "provenance": []
    },
    "kernelspec": {
      "display_name": "Python 3",
      "name": "python3"
    },
    "language_info": {
      "name": "python"
    }
  },
  "nbformat": 4,
  "nbformat_minor": 0
}