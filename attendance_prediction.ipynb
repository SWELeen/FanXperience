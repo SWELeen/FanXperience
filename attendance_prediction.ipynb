{
  "nbformat": 4,
  "nbformat_minor": 0,
  "metadata": {
    "colab": {
      "provenance": []
    },
    "kernelspec": {
      "name": "python3",
      "display_name": "Python 3"
    },
    "language_info": {
      "name": "python"
    }
  },
  "cells": [
    {
      "cell_type": "code",
      "execution_count": 1,
      "metadata": {
        "id": "dFVQjuM6_Hdm"
      },
      "outputs": [],
      "source": [
        "import pandas as pd\n",
        "from sklearn.model_selection import train_test_split\n",
        "from sklearn.preprocessing import LabelEncoder, StandardScaler\n",
        "from sklearn.linear_model import LinearRegression\n",
        "from sklearn.metrics import mean_absolute_error, mean_squared_error, r2_score"
      ]
    },
    {
      "cell_type": "code",
      "source": [
        "# Load the dataset\n",
        "df = pd.read_csv(\"attendance.csv\")"
      ],
      "metadata": {
        "id": "IXmDr_8p_K7s"
      },
      "execution_count": 3,
      "outputs": []
    },
    {
      "cell_type": "code",
      "source": [
        "# Handle missing values in 'weekly_attendance' by filling with median\n",
        "df['weekly_attendance'].fillna(df['weekly_attendance'].median(), inplace=True)"
      ],
      "metadata": {
        "colab": {
          "base_uri": "https://localhost:8080/"
        },
        "id": "YwuBNLNg_ZGy",
        "outputId": "d2c3cbc7-fc8e-4d65-fbfe-94ca1789f019"
      },
      "execution_count": 4,
      "outputs": [
        {
          "output_type": "stream",
          "name": "stderr",
          "text": [
            "<ipython-input-4-05b4ab4b89ae>:2: FutureWarning: A value is trying to be set on a copy of a DataFrame or Series through chained assignment using an inplace method.\n",
            "The behavior will change in pandas 3.0. This inplace method will never work because the intermediate object on which we are setting values always behaves as a copy.\n",
            "\n",
            "For example, when doing 'df[col].method(value, inplace=True)', try using 'df.method({col: value}, inplace=True)' or df[col] = df[col].method(value) instead, to perform the operation inplace on the original object.\n",
            "\n",
            "\n",
            "  df['weekly_attendance'].fillna(df['weekly_attendance'].median(), inplace=True)\n"
          ]
        }
      ]
    },
    {
      "cell_type": "code",
      "source": [
        "# Encode categorical features\n",
        "label_enc_team = LabelEncoder()\n",
        "df['team_encoded'] = label_enc_team.fit_transform(df['team'])"
      ],
      "metadata": {
        "id": "utceH41P_gNw"
      },
      "execution_count": 5,
      "outputs": []
    },
    {
      "cell_type": "code",
      "source": [
        "\n",
        "label_enc_team_name = LabelEncoder()\n",
        "df['team_name_encoded'] = label_enc_team_name.fit_transform(df['team_name'])"
      ],
      "metadata": {
        "id": "IxFloNtC_jLL"
      },
      "execution_count": 6,
      "outputs": []
    },
    {
      "cell_type": "code",
      "source": [
        "# Select features and target\n",
        "X = df[['team_encoded', 'team_name_encoded', 'year', 'total', 'home', 'away', 'week']]\n",
        "y = df['weekly_attendance']"
      ],
      "metadata": {
        "id": "vNIwflC-_nHg"
      },
      "execution_count": 7,
      "outputs": []
    },
    {
      "cell_type": "code",
      "source": [
        "# Split data into training and test sets\n",
        "X_train, X_test, y_train, y_test = train_test_split(X, y, test_size=0.2, random_state=42)\n",
        "\n",
        "# Standardize numerical features\n",
        "scaler = StandardScaler()\n",
        "X_train_scaled = scaler.fit_transform(X_train)\n",
        "X_test_scaled = scaler.transform(X_test)"
      ],
      "metadata": {
        "id": "xEmBaPjm_swN"
      },
      "execution_count": 8,
      "outputs": []
    },
    {
      "cell_type": "code",
      "source": [
        "# Train a Linear Regression model\n",
        "model = LinearRegression()\n",
        "model.fit(X_train_scaled, y_train)\n",
        "\n",
        "# Make predictions\n",
        "y_pred = model.predict(X_test_scaled)"
      ],
      "metadata": {
        "id": "O_cT3W7r_weU"
      },
      "execution_count": 9,
      "outputs": []
    },
    {
      "cell_type": "code",
      "source": [
        "\n",
        "# Evaluate model performance\n",
        "mae = mean_absolute_error(y_test, y_pred)\n",
        "mse = mean_squared_error(y_test, y_pred)\n",
        "rmse = mse ** 0.5\n",
        "r2 = r2_score(y_test, y_pred)\n",
        "\n",
        "# Print evaluation metrics\n",
        "print(f\"Mean Absolute Error: {mae}\")\n",
        "print(f\"Root Mean Squared Error: {rmse}\")\n",
        "print(f\"R-squared: {r2}\")\n"
      ],
      "metadata": {
        "colab": {
          "base_uri": "https://localhost:8080/"
        },
        "id": "-iKTPCZy_8x7",
        "outputId": "1879f1f1-f858-4b03-9762-891ed0c48614"
      },
      "execution_count": 10,
      "outputs": [
        {
          "output_type": "stream",
          "name": "stdout",
          "text": [
            "Mean Absolute Error: 5353.2956125847895\n",
            "Root Mean Squared Error: 7616.357877449383\n",
            "R-squared: 0.20371461062891105\n"
          ]
        }
      ]
    },
    {
      "cell_type": "code",
      "source": [
        "# test\n",
        "# Example input for prediction (replace with actual values)\n",
        "new_data = pd.DataFrame({\n",
        "    'team_encoded': [0],   # Replace with a valid encoded team value\n",
        "    'team_name_encoded': [0],  # Replace with a valid encoded team name\n",
        "    'year': [2025],  # Example year\n",
        "    'total': [500000],  # Example total attendance\n",
        "    'home': [250000],  # Example home attendance\n",
        "    'away': [250000],  # Example away attendance\n",
        "    'week': [10]  # Example matchweek\n",
        "})\n",
        "\n",
        "# Standardize input data\n",
        "new_data_scaled = scaler.transform(new_data)\n",
        "\n",
        "# Make prediction\n",
        "predicted_attendance = model.predict(new_data_scaled)\n",
        "print(f\"Predicted Weekly Attendance: {predicted_attendance[0]}\")\n"
      ],
      "metadata": {
        "colab": {
          "base_uri": "https://localhost:8080/"
        },
        "id": "1-KgjY5YAyaY",
        "outputId": "a904cc92-5931-4f0d-d76e-82e29d38d391"
      },
      "execution_count": 11,
      "outputs": [
        {
          "output_type": "stream",
          "name": "stdout",
          "text": [
            "Predicted Weekly Attendance: 33121.347366859874\n"
          ]
        }
      ]
    }
  ]
}